{
 "cells": [
  {
   "cell_type": "code",
   "execution_count": 2,
   "metadata": {},
   "outputs": [
    {
     "name": "stdout",
     "output_type": "stream",
     "text": [
      "goma da ɗigo biyar\n"
     ]
    }
   ],
   "source": [
    "from HausaNum2Words import HausaNumConverter\n",
    "\n",
    "converter = HausaNumConverter()\n",
    "print(converter.to_words(10.5))  # Example: output in Hausa words"
   ]
  }
 ],
 "metadata": {
  "kernelspec": {
   "display_name": "nlptools",
   "language": "python",
   "name": "python3"
  },
  "language_info": {
   "codemirror_mode": {
    "name": "ipython",
    "version": 3
   },
   "file_extension": ".py",
   "mimetype": "text/x-python",
   "name": "python",
   "nbconvert_exporter": "python",
   "pygments_lexer": "ipython3",
   "version": "3.12.7"
  }
 },
 "nbformat": 4,
 "nbformat_minor": 2
}
