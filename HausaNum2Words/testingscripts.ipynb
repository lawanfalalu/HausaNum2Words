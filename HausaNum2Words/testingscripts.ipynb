{
 "cells": [
  {
   "cell_type": "code",
   "execution_count": null,
   "metadata": {},
   "outputs": [],
   "source": [
    "!pip install -e ."
   ]
  },
  {
   "cell_type": "code",
   "execution_count": null,
   "metadata": {},
   "outputs": [],
   "source": [
    "from HausaNum2Words import HausaNumConverter\n",
    "\n",
    "converter = HausaNumConverter()\n",
    "print(converter.to_words(10.5))  # Example: output in Hausa words\n"
   ]
  },
  {
   "cell_type": "code",
   "execution_count": 3,
   "metadata": {},
   "outputs": [],
   "source": [
    "class HausaNumConverter:\n",
    "    def __init__(self):\n",
    "        self.alifiyya = [\"\", \" dubu \", \" miliyan \", \" biliyan \", \" tiriliyan \", \" kwadiliyan \", \" kwintilayan \", \" sektiliyan \", \" seftiliyan \", \" oktiliyan \", \" noniiliyan \", \" desiliyan \"]\n",
    "        self.gomiya = [\"\", \"\", \" ashirin\", \" talatin\", \" arba'in\", \" hamsin\", \" sittin\", \" saba'in\", \" tamanin\", \" casa'in\"]\n",
    "        self.daidai = [\"\", \" ɗaya\", \" biyu\", \" uku\", \" huɗu\", \" biyar\", \" shida\", \" bakwai\", \" takwas\", \" tara\"]\n",
    "        self.sha = [\" goma\", \" goma sha-ɗaya\", \" goma sha-biyu\", \" goma sha-uku\", \" goma sha-huɗu\", \" goma sha-biyar\", \" goma sha-shida\", \" goma sha-bakwai\", \" goma sha-takwas\", \" goma sha-tara\"]\n",
    "\n",
    "    def _convert_hundreds(self, num):\n",
    "        result = \"\"\n",
    "        remaining = num % 100\n",
    "        if remaining < 10:\n",
    "            result += self.daidai[remaining]\n",
    "        elif remaining < 20:\n",
    "            result += self.sha[int(remaining % 10)]\n",
    "        else:\n",
    "            connector = \" da\" if num % 10 > 0 else \"\"\n",
    "            result += self.gomiya[int(remaining / 10)] + connector + self.daidai[int(remaining % 10)]\n",
    "\n",
    "        if num >= 100:\n",
    "            result = \"ɗari\" + self.daidai[int(num / 100)] + (\" da\" if remaining > 0 else \"\") + result\n",
    "        return result\n",
    "\n",
    "    def _convert_without_decimal(self, num):\n",
    "        if num == 0:\n",
    "            return \"sifili\"\n",
    "\n",
    "        words = \"\"\n",
    "        group = 0\n",
    "        while num > 0:\n",
    "            remainder = num % 1000\n",
    "            if remainder != 0:\n",
    "                part = self._convert_hundreds(remainder)\n",
    "                connector = \" da \" if group > 0 else \"\"\n",
    "                words = self.alifiyya[group] + part + connector + words\n",
    "            group += 1\n",
    "            num //= 1000\n",
    "        return \" \".join(words.split())\n",
    "    \n",
    "    def _convert_decimal(self, num):\n",
    "        result = \"\".join(\"sifili\" if digit == '0' else self.daidai[int(digit)] for digit in num).strip()\n",
    "        return ' '.join(result.split())\n",
    "    \n",
    "    def to_words(self, num):\n",
    "        if isinstance(num, float):\n",
    "            integer_part, decimal_part = str(num).split('.')\n",
    "            integer_part_words = self._convert_without_decimal(int(integer_part))\n",
    "            decimal_part_words = self._convert_decimal(decimal_part)\n",
    "            return f\"{integer_part_words} da ɗigo {decimal_part_words}\".strip()\n",
    "        return self._convert_without_decimal(num).strip()\n"
   ]
  },
  {
   "cell_type": "code",
   "execution_count": 9,
   "metadata": {},
   "outputs": [
    {
     "data": {
      "text/plain": [
       "\"miliyan ɗaya da dubu ɗari biyu da talatin da casa'in da tara da ɗigo huɗu biyar\""
      ]
     },
     "execution_count": 9,
     "metadata": {},
     "output_type": "execute_result"
    }
   ],
   "source": [
    "t = HausaNumConverter()\n",
    "t.to_words(1230099.45)"
   ]
  },
  {
   "cell_type": "code",
   "execution_count": 10,
   "metadata": {},
   "outputs": [
    {
     "name": "stdout",
     "output_type": "stream",
     "text": [
      "All tests passed.\n"
     ]
    }
   ],
   "source": [
    "def test_to_words():\n",
    "    converter = HausaNumConverter()\n",
    "\n",
    "    # Test integers\n",
    "    assert converter.to_words(0) == \"sifili\", \"Test failed for 0\"\n",
    "    assert converter.to_words(10) == \"goma\", \"Test failed for 10\"\n",
    "    assert converter.to_words(123) == \"ɗari ɗaya da ashirin da uku\", \"Test failed for 123\"\n",
    "    assert converter.to_words(1001) == \"dubu ɗaya da ɗaya\", \"Test failed for 1001\"\n",
    "\n",
    "    # Test floats\n",
    "    assert converter.to_words(10.5) == \"goma da ɗigo biyar\", \"Test failed for 10.5\"\n",
    "    assert converter.to_words(123.45) == \"ɗari ɗaya da ashirin da uku da ɗigo huɗu biyar\", \"Test failed for 123.45\"\n",
    "    assert converter.to_words(190905.5) == \"dubu ɗari ɗaya da casa'in da ɗari tara da biyar da ɗigo biyar\", \"Test failed for 190905.5\"\n",
    "    assert converter.to_words(1230099.45) == \"miliyan ɗaya da dubu ɗari biyu da talatin da casa'in da tara da ɗigo huɗu biyar\", \"Test failed for 1230099.45\"\n",
    "\n",
    "    print(\"All tests passed.\")\n",
    "\n",
    "if __name__ == \"__main__\":\n",
    "    test_to_words()"
   ]
  }
 ],
 "metadata": {
  "kernelspec": {
   "display_name": "Python 3",
   "language": "python",
   "name": "python3"
  },
  "language_info": {
   "codemirror_mode": {
    "name": "ipython",
    "version": 3
   },
   "file_extension": ".py",
   "mimetype": "text/x-python",
   "name": "python",
   "nbconvert_exporter": "python",
   "pygments_lexer": "ipython3",
   "version": "3.12.6"
  }
 },
 "nbformat": 4,
 "nbformat_minor": 2
}
